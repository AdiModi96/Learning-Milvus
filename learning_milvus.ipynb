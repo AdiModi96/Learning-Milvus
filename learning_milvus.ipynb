{
 "cells": [
  {
   "cell_type": "code",
   "execution_count": null,
   "id": "7698f696-c126-4306-965c-46792f224e55",
   "metadata": {
    "scrolled": true,
    "tags": []
   },
   "outputs": [],
   "source": [
    "import sys\n",
    "import time\n",
    "import string\n",
    "import json\n",
    "import random\n",
    "import numpy as np\n",
    "import pandas as pd\n",
    "from milvus import default_server, debug_server\n",
    "from pymilvus import model, CollectionSchema, FieldSchema, DataType, utility, connections, Collection, BulkInsertState, Role"
   ]
  },
  {
   "cell_type": "markdown",
   "id": "5f5cd549-340c-44ac-9e65-d98762d8caed",
   "metadata": {
    "tags": []
   },
   "source": [
    "# Spinning-up Local Milvus Server"
   ]
  },
  {
   "cell_type": "code",
   "execution_count": null,
   "id": "4cfe8196-0b27-444a-b196-195a6a8dbc7a",
   "metadata": {
    "tags": []
   },
   "outputs": [],
   "source": [
    "# Cleanup previous data and stop server in case it is still running.\n",
    "default_server.stop()\n",
    "default_server.cleanup()\n",
    "\n",
    "# Start a new milvus-lite local server.\n",
    "start_time = time.time()\n",
    "default_server.start()\n",
    "end_time = time.time()\n",
    "\n",
    "print('Server startup time: {}'.format(round(end_time - start_time, 3)))\n",
    "port_number = default_server.listen_port\n",
    "print('Server started on port number: {}'.format(port_number))"
   ]
  },
  {
   "cell_type": "markdown",
   "id": "9f4884dc-d1bf-4308-9faa-e38dd272d3a3",
   "metadata": {
    "tags": []
   },
   "source": [
    "# Connect to Milvus DB"
   ]
  },
  {
   "cell_type": "code",
   "execution_count": null,
   "id": "3c4adeb1-94db-485d-9494-1562fee9d2e7",
   "metadata": {
    "tags": []
   },
   "outputs": [],
   "source": [
    "connect_name = 'default'\n",
    "print('Connecting to Milvus ...')\n",
    "connections.connect(connect_name, host='localhost', port=port_number, user='root', password='Milvus')\n",
    "print('Connection established!')"
   ]
  },
  {
   "cell_type": "markdown",
   "id": "a1617e63-a9cf-4bce-8bd8-5055f92e7c3f",
   "metadata": {
    "tags": []
   },
   "source": [
    "# Collections"
   ]
  },
  {
   "cell_type": "code",
   "execution_count": null,
   "id": "e517980e-5e84-4778-8e7c-e116c7374090",
   "metadata": {
    "tags": []
   },
   "outputs": [],
   "source": [
    "# Listing existing collections\n",
    "print('Existing collections: {}'.format(utility.list_collections()))\n",
    "\n",
    "# Dropping all exisitng collections to starts off fresh\n",
    "for collection_name in utility.list_collections(): utility.drop_collection(collection_name)\n",
    "print('Deleted all collections!')"
   ]
  },
  {
   "cell_type": "markdown",
   "id": "dddf8154-07f1-4b5c-842a-b089ad4306d4",
   "metadata": {
    "tags": []
   },
   "source": [
    "## Defining Field & Collection Schema"
   ]
  },
  {
   "cell_type": "code",
   "execution_count": null,
   "id": "5e98726a-ae26-414e-b908-20313a83c01e",
   "metadata": {
    "tags": []
   },
   "outputs": [],
   "source": [
    "id = FieldSchema(\n",
    "    name='id',\n",
    "    dtype=DataType.INT64,\n",
    "    is_primary=True,\n",
    "    auto_id=True,\n",
    ")\n",
    "text_title = FieldSchema(\n",
    "    name='title',\n",
    "    dtype=DataType.VARCHAR,\n",
    "    max_length=256\n",
    ")\n",
    "text = FieldSchema(\n",
    "    name='text',\n",
    "    dtype=DataType.VARCHAR,\n",
    "    max_length=65535,\n",
    ")\n",
    "text_embedding = FieldSchema(\n",
    "    name='text_embedding',\n",
    "    dtype=DataType.FLOAT_VECTOR,\n",
    "    dim=384\n",
    ")\n",
    "read_count = FieldSchema(\n",
    "    name='read_count',\n",
    "    dtype=DataType.INT64,\n",
    "    default_value=0\n",
    ")\n",
    "\n",
    "text_collection_schema = CollectionSchema(\n",
    "    fields=[id, text_title, text, text_embedding, read_count],\n",
    "    description='A humble story of Lorem Ipsum dummy text',\n",
    "    enable_dynamic_field=True\n",
    ")"
   ]
  },
  {
   "cell_type": "markdown",
   "id": "8a94a2a5-b4b2-4637-bbb5-4d0737046edd",
   "metadata": {
    "tags": []
   },
   "source": [
    "## Creating Collection"
   ]
  },
  {
   "cell_type": "code",
   "execution_count": null,
   "id": "560935ea-d122-4015-b067-260966391b4f",
   "metadata": {
    "tags": []
   },
   "outputs": [],
   "source": [
    "collection_name='lorem_ipsum_story'\n",
    "\n",
    "print('Creating collection: {}'.format(collection_name))\n",
    "collection = Collection(\n",
    "    name=collection_name,\n",
    "    schema=text_collection_schema,\n",
    "    using='default',\n",
    "    shards_num=3\n",
    ")\n",
    "print('Collection created!')"
   ]
  },
  {
   "cell_type": "code",
   "execution_count": null,
   "id": "7581e604-c1ef-4cec-9728-3c4bf9b552a8",
   "metadata": {
    "tags": []
   },
   "outputs": [],
   "source": [
    "# Listing existing collections\n",
    "print('Existing collections: {}'.format(utility.list_collections()))"
   ]
  },
  {
   "cell_type": "markdown",
   "id": "41eabedf-8070-4b82-ab56-4cc14c21c92a",
   "metadata": {
    "tags": []
   },
   "source": [
    "## Renaming Collection"
   ]
  },
  {
   "cell_type": "raw",
   "id": "3061252c-c194-46a1-a3c2-302559bded48",
   "metadata": {
    "tags": []
   },
   "source": [
    "new_collection_name = 'lorum_ipsum_texts'\n",
    "utility.rename_collection(collection_name, new_collection_name)"
   ]
  },
  {
   "cell_type": "raw",
   "id": "63245a81-b5c9-4724-99ad-129ced5b0991",
   "metadata": {
    "tags": []
   },
   "source": [
    "# Listing existing collections\n",
    "print('Existing collections: {}'.format(utility.list_collections()))"
   ]
  },
  {
   "cell_type": "raw",
   "id": "9bcd44b1-edc7-433a-bda2-b3540f877450",
   "metadata": {
    "tags": []
   },
   "source": [
    "utility.rename_collection(new_collection_name, collection_name)"
   ]
  },
  {
   "cell_type": "markdown",
   "id": "07d29b2e-4045-467b-900f-4e0fb348a14c",
   "metadata": {
    "tags": []
   },
   "source": [
    "## Dropping Collection"
   ]
  },
  {
   "cell_type": "raw",
   "id": "f52647a7-5efd-4b1c-9611-20079d7fc794",
   "metadata": {
    "tags": []
   },
   "source": [
    "utility.drop_collection(collection_name)"
   ]
  },
  {
   "cell_type": "raw",
   "id": "d19313c9-73e2-44ac-88e4-60ace04527fc",
   "metadata": {
    "execution": {
     "iopub.execute_input": "2024-03-25T06:00:13.826679Z",
     "iopub.status.busy": "2024-03-25T06:00:13.825961Z",
     "iopub.status.idle": "2024-03-25T06:00:13.831974Z",
     "shell.execute_reply": "2024-03-25T06:00:13.831204Z",
     "shell.execute_reply.started": "2024-03-25T06:00:13.826650Z"
    },
    "tags": []
   },
   "source": [
    "# Listing existing collections\n",
    "print('Existing collections: {}'.format(utility.list_collections()))"
   ]
  },
  {
   "cell_type": "markdown",
   "id": "771322e1-de0b-4b2d-8c69-a47667acc7e3",
   "metadata": {
    "tags": []
   },
   "source": [
    "## Creating Partition"
   ]
  },
  {
   "cell_type": "raw",
   "id": "4f631fe0-d251-492d-b22e-c27083502b33",
   "metadata": {
    "tags": []
   },
   "source": [
    "partition_name = 'disc1'\n",
    "\n",
    "print('Creating partition: {}'.format(partition_name))\n",
    "collection.create_partition(partition_name)\n",
    "print('Partition created!')"
   ]
  },
  {
   "cell_type": "raw",
   "id": "83f5b491-97f0-4cc8-a691-9e92b3e74c18",
   "metadata": {
    "tags": []
   },
   "source": [
    "print('Does collection: {} have partition: {}? {}'.format(collection_name, partition_name, collection.has_partition('disc1')))"
   ]
  },
  {
   "cell_type": "markdown",
   "id": "19b33590-5501-472c-8af2-abf6e7e4cee5",
   "metadata": {
    "tags": []
   },
   "source": [
    "## Dropping Partition"
   ]
  },
  {
   "cell_type": "raw",
   "id": "487998c9-aaf8-4533-93b8-6fc6acbc88d4",
   "metadata": {
    "tags": []
   },
   "source": [
    "partition_name = 'disc1'\n",
    "\n",
    "print('Dropping partition: {}'.format(partition_name))\n",
    "collection.drop_partition(partition_name)\n",
    "print('Partition dropped!')"
   ]
  },
  {
   "cell_type": "raw",
   "id": "75da46ef-1484-4bd4-9475-d3fb7bb1c400",
   "metadata": {
    "tags": []
   },
   "source": [
    "print('Does collection: {} have partition: {}? {}'.format(collection_name, partition_name, collection.has_partition('disc1')))"
   ]
  },
  {
   "cell_type": "markdown",
   "id": "1e87480a-827c-44d5-a95f-e137735b00d4",
   "metadata": {},
   "source": [
    "## Inserting Data"
   ]
  },
  {
   "cell_type": "code",
   "execution_count": null,
   "id": "aea43f40-790d-47d4-936d-9ec6222121df",
   "metadata": {},
   "outputs": [],
   "source": [
    "from pymilvus.model.hybrid import BGEM3EmbeddingFunction\n",
    "\n",
    "bge_m3_ef = BGEM3EmbeddingFunction(\n",
    "    model_name='BAAI/bge-m3', # Specify the model name\n",
    "    device='cpu', # Specify the device to use, e.g., 'cpu' or 'cuda:0'\n",
    "    use_fp16=False # Specify whether to use fp16. Set to `False` if `device` is `cpu`.\n",
    ")"
   ]
  },
  {
   "cell_type": "code",
   "execution_count": null,
   "id": "e4e72b43-22ad-44ff-a071-e01d2a77aacb",
   "metadata": {
    "tags": []
   },
   "outputs": [],
   "source": [
    "# Creating dummy data\n",
    "# Dummy text_titles\n",
    "text_titles = [\n",
    "    'Design Focus Filler',\n",
    "    'Popularity Surge History',\n",
    "    'Misunderstood Nonsense Text',\n",
    "    'Cicero’s Speedy Rebuttal',\n",
    "    'Latin Placeholder Origin',\n",
    "    'Lorem’s True Source',\n",
    "    'Cicero’s Pain Philosophy',\n",
    "    'Typesetting Historical Roots',\n",
    "    'Lorem Ipsum’s 1960s Rise',\n",
    "    'Graphic Arts Classical Debate'\n",
    "]\n",
    "\n",
    "# Dummy texts\n",
    "texts = [\n",
    "    'The purpose of lorem ipsum is to create a natural looking block of text (sentence, paragraph, page, etc.) that doesn\\'t distract from the layout. A practice not without controversy, laying out pages with meaningless filler text can be very useful when the focus is meant to be on design, not content.',\n",
    "    'The passage experienced a surge in popularity during the 1960s when Letraset used it on their dry-transfer sheets, and again during the 90s as desktop publishers bundled the text with their software. Today it\\'s seen all around the web; on templates, websites, and stock designs. Use our generator to get your own, or read on for the authoritative history of lorem ipsum.',\n",
    "    'Until recently, the prevailing view assumed lorem ipsum was born as a nonsense text. “It\\'s not Latin, though it looks like it, and it actually says nothing,” Before & After magazine answered a curious reader, “Its ‘words’ loosely approximate the frequency with which letters occur in English, which is why at a glance it looks pretty real.”',\n",
    "    'As Cicero would put it, “Um, not so fast.”',\n",
    "    'The placeholder text, beginning with the line “Lorem ipsum dolor sit amet, consectetur adipiscing elit”, looks like Latin because in its youth, centuries ago, it was Latin.',\n",
    "    'Richard McClintock, a Latin scholar from Hampden-Sydney College, is credited with discovering the source behind the ubiquitous filler text. In seeing a sample of lorem ipsum, his interest was piqued by consectetur—a genuine, albeit rare, Latin word. Consulting a Latin dictionary led McClintock to a passage from De Finibus Bonorum et Malorum (“On the Extremes of Good and Evil”), a first-century B.C. text from the Roman philosopher Cicero.',\n",
    "    'In particular, the garbled words of lorem ipsum bear an unmistakable resemblance to sections 1.10.32–33 of Cicero\\'s work, with the most notable passage excerpted below: “Neque porro quisquam est, qui dolorem ipsum quia dolor sit amet, consectetur, adipisci velit, sed quia non numquam eius modi tempora incidunt ut labore et dolore magnam aliquam quaerat voluptatem.” A 1914 English translation by Harris Rackham reads: “Nor is there anyone who loves or pursues or desires to obtain pain of itself, because it is pain, but occasionally circumstances occur in which toil and pain can procure him some great pleasure.” McClintock\\'s eye for detail certainly helped narrow the whereabouts of lorem ipsum\\'s origin, however, the “how and when” still remain something of a mystery, with competing theories and timelines.',\n",
    "    'So how did the classical Latin become so incoherent? According to McClintock, a 15th century typesetter likely scrambled part of Cicero\\'s De Finibus in order to provide placeholder text to mockup various fonts for a type specimen book.',\n",
    "    'It\\'s difficult to find examples of lorem ipsum in use before Letraset made it popular as a dummy text in the 1960s, although McClintock says he remembers coming across the lorem ipsum passage in a book of old metal type samples. So far he hasn\\'t relocated where he once saw the passage, but the popularity of Cicero in the 15th century supports the theory that the filler text has been used for centuries.',\n",
    "    'And anyways, as Cecil Adams reasoned, “[Do you really] think graphic arts supply houses were hiring classics scholars in the 1960s?” Perhaps. But it seems reasonable to imagine that there was a version in use far before the age of Letraset.'\n",
    "]\n",
    "\n",
    "# Dummy text_embddings\n",
    "sentence_transformer_embedder = model.dense.SentenceTransformerEmbeddingFunction(\n",
    "    batch_size=32,\n",
    "    model_name='all-MiniLM-L6-v2',\n",
    "    device='cuda'\n",
    ")\n",
    "text_embeddings = sentence_transformer_embedder.encode_documents(texts)\n",
    "\n",
    "# Dummy read_count\n",
    "read_counts = np.random.randint(0, 10000, size=(len(texts)))\n",
    "\n",
    "data = [\n",
    "    # id (not required as auto_id is enabled)\n",
    "    text_titles,\n",
    "    texts,\n",
    "    text_embeddings,\n",
    "    read_counts\n",
    "]"
   ]
  },
  {
   "cell_type": "code",
   "execution_count": null,
   "id": "a00145a3-7e29-4ad5-a757-ed90112b22fa",
   "metadata": {
    "tags": []
   },
   "outputs": [],
   "source": [
    "data_insert = collection.insert(data)"
   ]
  },
  {
   "cell_type": "code",
   "execution_count": null,
   "id": "174516c8-fd79-4aaf-aaa5-5e4bb273da0b",
   "metadata": {
    "tags": []
   },
   "outputs": [],
   "source": [
    "expression = 'id in [1]'\n",
    "data_insert = collection.delete(expression)"
   ]
  },
  {
   "cell_type": "markdown",
   "id": "d224008a-8bee-4fc8-b4db-49e56d34bd3a",
   "metadata": {},
   "source": [
    "## Compacting Data"
   ]
  },
  {
   "cell_type": "code",
   "execution_count": null,
   "id": "41df99ca-1a35-48da-965e-fa547fc2440b",
   "metadata": {
    "tags": []
   },
   "outputs": [],
   "source": [
    "collection.compact()"
   ]
  },
  {
   "cell_type": "markdown",
   "id": "34e3fde5-39df-4856-a5de-9784afeb7e80",
   "metadata": {},
   "source": [
    "## Indexing Data"
   ]
  },
  {
   "cell_type": "code",
   "execution_count": null,
   "id": "dd0f412f-0187-452a-86b6-d2aad8d08e7e",
   "metadata": {},
   "outputs": [],
   "source": [
    "index_params = {\n",
    "    'metric_type': 'L2',\n",
    "    'index_type': 'ANNOY\n",
    "}"
   ]
  },
  {
   "cell_type": "code",
   "execution_count": null,
   "id": "83241631-ada9-4022-94ec-32e13ef14432",
   "metadata": {
    "tags": []
   },
   "outputs": [],
   "source": [
    "index_params = {\n",
    "    'metric_type': 'L2',\n",
    "    'index_type': 'FLAT',\n",
    "    'index_name': 'l2_flat_text_embedding'\n",
    "}\n",
    "\n",
    "print('Creating index on text_embedding ...')\n",
    "collection.create_index(\n",
    "    field_name='text_embedding',\n",
    "    index_params=index_params\n",
    ")\n",
    "print('Index created!')"
   ]
  },
  {
   "cell_type": "markdown",
   "id": "96225135-c749-450a-b2d8-0c4dcd0476c9",
   "metadata": {
    "execution": {
     "iopub.execute_input": "2024-03-25T06:35:49.171696Z",
     "iopub.status.busy": "2024-03-25T06:35:49.170977Z",
     "iopub.status.idle": "2024-03-25T06:35:49.174360Z",
     "shell.execute_reply": "2024-03-25T06:35:49.173799Z",
     "shell.execute_reply.started": "2024-03-25T06:35:49.171670Z"
    },
    "tags": []
   },
   "source": [
    "## Dropping Index"
   ]
  },
  {
   "cell_type": "raw",
   "id": "5324393b-9232-44d2-8fdc-755c7ca82c5b",
   "metadata": {
    "execution": {
     "iopub.execute_input": "2024-03-25T06:36:26.890939Z",
     "iopub.status.busy": "2024-03-25T06:36:26.890492Z",
     "iopub.status.idle": "2024-03-25T06:36:26.895666Z",
     "shell.execute_reply": "2024-03-25T06:36:26.895072Z",
     "shell.execute_reply.started": "2024-03-25T06:36:26.890909Z"
    },
    "tags": []
   },
   "source": [
    "collection.drop_index(index_name=index_name)"
   ]
  },
  {
   "cell_type": "markdown",
   "id": "4cf281b6-ba6b-4744-9640-392e20fe946d",
   "metadata": {},
   "source": [
    "## Searching & Querying"
   ]
  },
  {
   "cell_type": "code",
   "execution_count": null,
   "id": "9d91c380-a280-4a85-b986-38faafb14884",
   "metadata": {},
   "outputs": [],
   "source": [
    "# Loading the data in memory (required before querying/searching)\n",
    "collection.load(replica_number=1)"
   ]
  },
  {
   "cell_type": "markdown",
   "id": "02d3509e-5797-46f1-87a1-b30b8a747bd3",
   "metadata": {},
   "source": [
    "**Vector similarity search**"
   ]
  },
  {
   "cell_type": "code",
   "execution_count": null,
   "id": "37144157-2f75-41a9-af16-0b32a0afc957",
   "metadata": {},
   "outputs": [],
   "source": [
    "query_text = 'What is Lorem Ipsum?'\n",
    "sentence_transformer_embedder = model.dense.SentenceTransformerEmbeddingFunction(\n",
    "    batch_size=32,\n",
    "    model_name='all-MiniLM-L6-v2',\n",
    "    device='cuda'\n",
    ")\n",
    "query_embeddings = sentence_transformer_embedder.encode_documents(query_text)\n",
    "\n",
    "results = collection.search(\n",
    "    data=query_embeddings,\n",
    "    anns_field='text_embedding',\n",
    "    param={\n",
    "        'metric_type': 'L2'\n",
    "    },\n",
    "    limit=5,\n",
    "    expr=None,\n",
    "    output_fields=['id', 'text', 'read_count']\n",
    ")\n",
    "\n",
    "results_df = {\n",
    "    'id': [],\n",
    "    'distance': [],\n",
    "    'text': [],\n",
    "    'read_count': []\n",
    "}\n",
    "\n",
    "for result in results[0]:\n",
    "    results_df['id'].append(result.id)\n",
    "    results_df['distance'].append(result.distance)\n",
    "    results_df['text'].append(result.entity.text)\n",
    "    results_df['read_count'].append(result.entity.read_count)\n",
    "\n",
    "results_df = pd.DataFrame.from_dict(results_df)\n",
    "results_df"
   ]
  },
  {
   "cell_type": "markdown",
   "id": "6e2af8df-5277-4fc5-bc6e-422cd7aeb78e",
   "metadata": {},
   "source": [
    "**Scalar search**"
   ]
  },
  {
   "cell_type": "code",
   "execution_count": null,
   "id": "2393057e-e78b-4c9f-b8c5-ff17094f9ae5",
   "metadata": {
    "tags": []
   },
   "outputs": [],
   "source": [
    "results = collection.query(\n",
    "    limit=5,\n",
    "    expr='id in [448619783558005029]',\n",
    "    output_fields=['id', 'text', 'read_count']\n",
    ")\n",
    "\n",
    "results_df = {\n",
    "    'id': [],\n",
    "    'text': [],\n",
    "    'read_count': []\n",
    "}\n",
    "\n",
    "for result in results:\n",
    "    results_df['id'].append(result['id'])\n",
    "    results_df['text'].append(result['text'])\n",
    "    results_df['read_count'].append(result['read_count'])\n",
    "\n",
    "results_df = pd.DataFrame.from_dict(results_df)\n",
    "results_df"
   ]
  },
  {
   "cell_type": "markdown",
   "id": "7aade491-6a90-432c-a9b6-01dd4181dd32",
   "metadata": {},
   "source": [
    "**Hybrid search**"
   ]
  },
  {
   "cell_type": "code",
   "execution_count": null,
   "id": "4479d332-05db-4c35-9de6-849f49d37d8b",
   "metadata": {
    "tags": []
   },
   "outputs": [],
   "source": [
    "query_text = 'What is Lorem Ipsum?'\n",
    "sentence_transformer_embedder = model.dense.SentenceTransformerEmbeddingFunction(\n",
    "    batch_size=32,\n",
    "    model_name='all-MiniLM-L6-v2',\n",
    "    device='cuda'\n",
    ")\n",
    "query_embeddings = sentence_transformer_embedder.encode_documents(query_text)\n",
    "\n",
    "results = collection.search(\n",
    "    data=query_embeddings,\n",
    "    anns_field='text_embedding',\n",
    "    param={\n",
    "        'metric_type': 'L2'\n",
    "    },\n",
    "    limit=5,\n",
    "    expr='id in [448619783558005029]',\n",
    "    output_fields=['id', 'text', 'read_count']\n",
    ")\n",
    "\n",
    "results_df = {\n",
    "    'id': [],\n",
    "    'distance': [],\n",
    "    'text': [],\n",
    "    'read_count': []\n",
    "}\n",
    "\n",
    "for result in results[0]:\n",
    "    results_df['id'].append(result.id)\n",
    "    results_df['distance'].append(result.distance)\n",
    "    results_df['text'].append(result.entity.text)\n",
    "    results_df['read_count'].append(result.entity.read_count)\n",
    "\n",
    "results_df = pd.DataFrame.from_dict(results_df)\n",
    "results_df"
   ]
  },
  {
   "cell_type": "code",
   "execution_count": null,
   "id": "37343cfc-af9a-4042-ac95-392c50934241",
   "metadata": {},
   "outputs": [],
   "source": [
    "# Release the loaded data in memory\n",
    "collection.release()"
   ]
  },
  {
   "cell_type": "markdown",
   "id": "185ab8d0-28b8-415a-b631-30a262066382",
   "metadata": {},
   "source": [
    "# Roles"
   ]
  },
  {
   "cell_type": "markdown",
   "id": "82ce674b-3dc9-45ac-a62c-09718cbcd775",
   "metadata": {},
   "source": [
    "## Adding a role"
   ]
  },
  {
   "cell_type": "code",
   "execution_count": null,
   "id": "5a65becd-3cff-4d86-91d1-bbb1f5d35bc6",
   "metadata": {
    "tags": []
   },
   "outputs": [],
   "source": [
    "print('Available roles: {}'.format(utility.list_roles(include_user_info=True, using='default')))\n",
    "\n",
    "role_name = 'test_role'\n",
    "role = Role(role_name, using='default')\n",
    "role.create()\n",
    "\n",
    "print('Available roles: {}'.format(utility.list_roles(include_user_info=True, using='default')))"
   ]
  },
  {
   "cell_type": "markdown",
   "id": "c25df5aa-c16f-42fa-ac91-1e7707b9d797",
   "metadata": {},
   "source": [
    "## Granting permissions to the role"
   ]
  },
  {
   "cell_type": "code",
   "execution_count": null,
   "id": "6d1fc4dc-afd0-4f9f-8b80-b31ea75c47a6",
   "metadata": {
    "tags": []
   },
   "outputs": [],
   "source": [
    "role.grant('Collection', '*', 'Search')\n",
    "role.list_grants()"
   ]
  },
  {
   "cell_type": "markdown",
   "id": "ed690a9f-95ef-4631-9d7b-1f3f708171ed",
   "metadata": {},
   "source": [
    "## Revoking permissions from the role"
   ]
  },
  {
   "cell_type": "code",
   "execution_count": null,
   "id": "b033f6f9-1639-4838-b75d-3d10fc30174e",
   "metadata": {
    "tags": []
   },
   "outputs": [],
   "source": [
    "role.revoke('Collection', '*', 'Search')\n",
    "role.list_grants()"
   ]
  },
  {
   "cell_type": "markdown",
   "id": "b0de432e-7b77-4ad0-a16b-9d8bfda9d203",
   "metadata": {},
   "source": [
    "## Adding a role"
   ]
  },
  {
   "cell_type": "code",
   "execution_count": null,
   "id": "bdd5a2bb-7e48-4485-9bc7-7201c916b514",
   "metadata": {
    "tags": []
   },
   "outputs": [],
   "source": [
    "print('Available roles: {}'.format(utility.list_roles(include_user_info=True, using='default')))\n",
    "\n",
    "role.drop()\n",
    "\n",
    "print('Available roles: {}'.format(utility.list_roles(include_user_info=True, using='default')))"
   ]
  },
  {
   "cell_type": "markdown",
   "id": "e6ffba56-6104-4172-a64f-9cba6e44e9cb",
   "metadata": {},
   "source": [
    "# Shut down and cleanup the milvus server."
   ]
  },
  {
   "cell_type": "code",
   "execution_count": null,
   "id": "df016ff6-35ae-48a1-9430-85ce235a5141",
   "metadata": {
    "tags": []
   },
   "outputs": [],
   "source": [
    "# Shut down and cleanup the milvus server.\n",
    "default_server.stop()\n",
    "default_server.cleanup()"
   ]
  },
  {
   "cell_type": "code",
   "execution_count": null,
   "id": "07680243-d886-4b56-ac18-6db4ee7e7f9c",
   "metadata": {},
   "outputs": [],
   "source": []
  }
 ],
 "metadata": {
  "kernelspec": {
   "display_name": "Python 3 (ipykernel)",
   "language": "python",
   "name": "python3"
  },
  "language_info": {
   "codemirror_mode": {
    "name": "ipython",
    "version": 3
   },
   "file_extension": ".py",
   "mimetype": "text/x-python",
   "name": "python",
   "nbconvert_exporter": "python",
   "pygments_lexer": "ipython3",
   "version": "3.8.10"
  }
 },
 "nbformat": 4,
 "nbformat_minor": 5
}
